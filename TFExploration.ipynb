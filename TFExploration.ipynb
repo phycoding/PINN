{
 "cells": [
  {
   "cell_type": "code",
   "execution_count": 1,
   "metadata": {},
   "outputs": [
    {
     "name": "stdout",
     "output_type": "stream",
     "text": [
      "TensorFlow CPU: Mean runtime = 0.007855 s, Std = 0.010293 s\n",
      "TensorFlow GPU: Mean runtime = 0.003241 s, Std = 0.003363 s\n"
     ]
    }
   ],
   "source": [
    "import tensorflow as tf\n",
    "import numpy as np\n",
    "import time\n",
    "\n",
    "# Define the Gaussian function in TensorFlow\n",
    "def gaussian_tf(x, sigma=0.447, mu=0.0):\n",
    "    return (1 / (sigma * np.sqrt(2 * np.pi))) * tf.exp(-0.5 * ((x - mu) / sigma) ** 2)\n",
    "\n",
    "# Compute the derivative using TensorFlow's autodiff\n",
    "def compute_derivative_tf(x, sigma=0.447, mu=0.0):\n",
    "    with tf.GradientTape() as tape:\n",
    "        tape.watch(x)\n",
    "        f = gaussian_tf(x, sigma, mu)\n",
    "    df_dx = tape.gradient(f, x)\n",
    "    return df_dx\n",
    "\n",
    "# Measure the runtime on CPU/GPU\n",
    "def measure_runtime_tf(runs=10, device='/CPU:0'):\n",
    "    x = tf.constant(np.linspace(-5, 5, 1000), dtype=tf.float32)\n",
    "    times = []\n",
    "    for _ in range(runs):\n",
    "        with tf.device(device):\n",
    "            start_time = time.time()\n",
    "            compute_derivative_tf(x)\n",
    "            times.append(time.time() - start_time)\n",
    "    return np.mean(times), np.std(times)\n",
    "\n",
    "# Run the measurement on CPU and GPU\n",
    "cpu_mean, cpu_std = measure_runtime_tf(runs=10, device='/CPU:0')\n",
    "gpu_mean, gpu_std = measure_runtime_tf(runs=10, device='/GPU:0')\n",
    "\n",
    "print(f\"TensorFlow CPU: Mean runtime = {cpu_mean:.6f} s, Std = {cpu_std:.6f} s\")\n",
    "print(f\"TensorFlow GPU: Mean runtime = {gpu_mean:.6f} s, Std = {gpu_std:.6f} s\")\n"
   ]
  },
  {
   "cell_type": "code",
   "execution_count": 1,
   "metadata": {},
   "outputs": [
    {
     "name": "stdout",
     "output_type": "stream",
     "text": [
      "PyTorch CPU: Mean runtime = 0.007651 s, Std = 0.020571 s\n",
      "PyTorch GPU: Mean runtime = 0.001178 s, Std = 0.002660 s\n"
     ]
    }
   ],
   "source": [
    "import torch\n",
    "import numpy as np\n",
    "import time\n",
    "\n",
    "# Define the Gaussian function in PyTorch\n",
    "def gaussian_torch(x, sigma=0.447, mu=0.0):\n",
    "    return (1 / (sigma * np.sqrt(2 * np.pi))) * torch.exp(-0.5 * ((x - mu) / sigma) ** 2)\n",
    "\n",
    "# Compute the derivative using PyTorch's autodiff\n",
    "def compute_derivative_torch(x, sigma=0.447, mu=0.0):\n",
    "    x = x.requires_grad_(True)\n",
    "    f = gaussian_torch(x, sigma, mu)\n",
    "    f.backward(torch.ones_like(x))\n",
    "    return x.grad\n",
    "\n",
    "# Measure the runtime on CPU/GPU\n",
    "def measure_runtime_torch(runs=10, device='cpu'):\n",
    "    x = torch.linspace(-5, 5, 1000, device=device)\n",
    "    times = []\n",
    "    for _ in range(runs):\n",
    "        start_time = time.time()\n",
    "        compute_derivative_torch(x)\n",
    "        times.append(time.time() - start_time)\n",
    "    return np.mean(times), np.std(times)\n",
    "\n",
    "# Run the measurement on CPU and GPU\n",
    "cpu_mean, cpu_std = measure_runtime_torch(runs=10, device='cpu')\n",
    "gpu_mean, gpu_std = measure_runtime_torch(runs=10, device='cuda')\n",
    "\n",
    "print(f\"PyTorch CPU: Mean runtime = {cpu_mean:.6f} s, Std = {cpu_std:.6f} s\")\n",
    "print(f\"PyTorch GPU: Mean runtime = {gpu_mean:.6f} s, Std = {gpu_std:.6f} s\")\n"
   ]
  },
  {
   "cell_type": "code",
   "execution_count": 2,
   "metadata": {},
   "outputs": [
    {
     "name": "stdout",
     "output_type": "stream",
     "text": [
      "TensorFlow Runtime: 0.016414 seconds\n",
      "Maximum absolute error: 2.156057e-07\n"
     ]
    }
   ],
   "source": [
    "import tensorflow as tf\n",
    "import numpy as np\n",
    "import time\n",
    "\n",
    "# Define the function f(x) in TensorFlow\n",
    "def f_tf(x):\n",
    "    return tf.exp(-x**2)\n",
    "\n",
    "# Compute the second-order derivative using TensorFlow's autodiff\n",
    "def second_order_derivative_tf(x):\n",
    "    with tf.GradientTape() as tape2:\n",
    "        tape2.watch(x)\n",
    "        with tf.GradientTape() as tape1:\n",
    "            tape1.watch(x)\n",
    "            f = f_tf(x)\n",
    "        df_dx = tape1.gradient(f, x)\n",
    "    d2f_dx2 = tape2.gradient(df_dx, x)\n",
    "    return d2f_dx2\n",
    "\n",
    "# Measure runtime for 10000 points\n",
    "def measure_runtime_tf():\n",
    "    x = tf.constant(np.linspace(-5, 5, 10000), dtype=tf.float32)\n",
    "    start_time = time.time()\n",
    "    d2f_dx2 = second_order_derivative_tf(x)\n",
    "    runtime = time.time() - start_time\n",
    "    return d2f_dx2.numpy(), runtime\n",
    "\n",
    "# Calculate the exact second derivative for validation\n",
    "def exact_second_derivative(x):\n",
    "    return (4 * x**2 - 2) * np.exp(-x**2)\n",
    "\n",
    "# Run and validate\n",
    "d2f_dx2_tf, runtime_tf = measure_runtime_tf()\n",
    "x_points = np.linspace(-5, 5, 10000)\n",
    "exact_d2f_dx2 = exact_second_derivative(x_points)\n",
    "\n",
    "# Compare the results\n",
    "print(f\"TensorFlow Runtime: {runtime_tf:.6f} seconds\")\n",
    "print(f\"Maximum absolute error: {np.max(np.abs(d2f_dx2_tf - exact_d2f_dx2)):.6e}\")\n"
   ]
  },
  {
   "cell_type": "code",
   "execution_count": 3,
   "metadata": {},
   "outputs": [
    {
     "name": "stdout",
     "output_type": "stream",
     "text": [
      "PyTorch Runtime: 0.014382 seconds\n",
      "Maximum absolute error: 1.624304e-06\n"
     ]
    }
   ],
   "source": [
    "import torch\n",
    "import numpy as np\n",
    "import time\n",
    "\n",
    "# Define the function f(x) in PyTorch\n",
    "def f_torch(x):\n",
    "    return torch.exp(-x**2)\n",
    "\n",
    "# Compute the second-order derivative using PyTorch's autodiff\n",
    "def second_order_derivative_torch(x):\n",
    "    x.requires_grad_(True)\n",
    "    f = f_torch(x)\n",
    "    df_dx = torch.autograd.grad(f, x, torch.ones_like(x), create_graph=True)[0]\n",
    "    d2f_dx2 = torch.autograd.grad(df_dx, x, torch.ones_like(x))[0]\n",
    "    return d2f_dx2\n",
    "\n",
    "# Measure runtime for 10000 points\n",
    "def measure_runtime_torch():\n",
    "    x = torch.linspace(-5, 5, 10000)\n",
    "    start_time = time.time()\n",
    "    d2f_dx2 = second_order_derivative_torch(x)\n",
    "    runtime = time.time() - start_time\n",
    "    return d2f_dx2.detach().numpy(), runtime\n",
    "\n",
    "# Run and validate\n",
    "d2f_dx2_torch, runtime_torch = measure_runtime_torch()\n",
    "x_points = np.linspace(-5, 5, 10000)\n",
    "exact_d2f_dx2 = exact_second_derivative(x_points)\n",
    "\n",
    "# Compare the results\n",
    "print(f\"PyTorch Runtime: {runtime_torch:.6f} seconds\")\n",
    "print(f\"Maximum absolute error: {np.max(np.abs(d2f_dx2_torch - exact_d2f_dx2)):.6e}\")\n"
   ]
  },
  {
   "cell_type": "code",
   "execution_count": 22,
   "metadata": {},
   "outputs": [
    {
     "data": {
      "image/png": "[encoded data removed]",
      "text/plain": [
       "<Figure size 800x600 with 1 Axes>"
      ]
     },
     "metadata": {},
     "output_type": "display_data"
    },
    {
     "name": "stdout",
     "output_type": "stream",
     "text": [
      "Order 0: Runtime = 0.000000 seconds\n",
      "Order 1: Runtime = 0.002161 seconds\n",
      "Order 2: Runtime = 0.000000 seconds\n",
      "Order 3: Runtime = 0.000000 seconds\n",
      "Order 4: Runtime = 0.000000 seconds\n",
      "Order 5: Runtime = 0.002009 seconds\n",
      "Order 6: Runtime = 0.003244 seconds\n",
      "Order 7: Runtime = 0.007067 seconds\n",
      "Order 8: Runtime = 0.009865 seconds\n",
      "Order 9: Runtime = 0.017581 seconds\n",
      "Order 10: Runtime = 0.024409 seconds\n"
     ]
    }
   ],
   "source": [
    "import torch\n",
    "import numpy as np\n",
    "import time\n",
    "import matplotlib.pyplot as plt\n",
    "\n",
    "# Define the function f(x) in PyTorch\n",
    "def f_torch(x):\n",
    "    return torch.exp(-x**2)\n",
    "\n",
    "# Compute the nth-order derivative using PyTorch's autodiff\n",
    "def nth_order_derivative_torch(x, n):\n",
    "    x.requires_grad_(True)\n",
    "    f = f_torch(x)\n",
    "    for _ in range(n):\n",
    "        grad = torch.autograd.grad(f, x, torch.ones_like(x), create_graph=True)[0]\n",
    "        f = grad\n",
    "    return f\n",
    "\n",
    "# Measure runtime for nth-order derivative for 10000 points\n",
    "def measure_runtime_torch(n):\n",
    "    x = torch.linspace(-5, 5, 10000, requires_grad=True)\n",
    "    start_time = time.time()\n",
    "    nth_order_derivative_torch(x, n)\n",
    "    runtime = time.time() - start_time\n",
    "    return runtime\n",
    "\n",
    "# Measure runtime for orders 0 to 3\n",
    "orders = [0, 1, 2, 3, 4, 5, 6, 7, 8, 9, 10]\n",
    "runtimes = [measure_runtime_torch(n) for n in orders]\n",
    "\n",
    "# Plot the runtime against the derivative order\n",
    "plt.figure(figsize=(8, 6))\n",
    "plt.plot(orders, runtimes, marker='o', linestyle='-', color='b')\n",
    "plt.title(\"Runtime vs Derivative Order using PyTorch\")\n",
    "plt.xlabel(\"Derivative Order\")\n",
    "plt.ylabel(\"Runtime (seconds)\")\n",
    "plt.xticks(orders)\n",
    "plt.grid(True)\n",
    "plt.show()\n",
    "\n",
    "# Print the runtimes for reference\n",
    "for order, runtime in zip(orders, runtimes):\n",
    "    print(f\"Order {order}: Runtime = {runtime:.6f} seconds\")\n"
   ]
  }
 ],
 "metadata": {
  "kernelspec": {
   "display_name": ".venv",
   "language": "python",
   "name": "python3"
  },
  "language_info": {
   "codemirror_mode": {
    "name": "ipython",
    "version": 3
   },
   "file_extension": ".py",
   "mimetype": "text/x-python",
   "name": "python",
   "nbconvert_exporter": "python",
   "pygments_lexer": "ipython3",
   "version": "3.11.5"
  }
 },
 "nbformat": 4,
 "nbformat_minor": 2
}
