{
 "cells": [
  {
   "cell_type": "code",
   "execution_count": 5,
   "metadata": {},
   "outputs": [
    {
     "name": "stdout",
     "output_type": "stream",
     "text": [
      "Orthonormal basis:\n",
      "[[ 0.33333333  0.66666667  0.66666667]\n",
      " [-0.66666667 -0.33333333  0.66666667]\n",
      " [ 0.66666667 -0.66666667  0.33333333]]\n"
     ]
    }
   ],
   "source": [
    "import numpy as np\n",
    "\n",
    "def modified_gram_schmidt(V):\n",
    "    \"\"\"Orthonormalize a set of vectors using the modified Gram-Schmidt algorithm.\"\"\"\n",
    "    # Initialize an empty list to store the orthonormal vectors\n",
    "    U = []\n",
    "\n",
    "    for v in V:\n",
    "        # Start with the current vector\n",
    "        u = v.copy()\n",
    "\n",
    "        # Subtract projections onto the previously computed orthonormal vectors\n",
    "        for q in U:\n",
    "            u -= np.dot(u, q) * q\n",
    "\n",
    "        # Normalize the vector\n",
    "        u /= np.linalg.norm(u)\n",
    "\n",
    "        # Append the normalized vector to the list of orthonormal vectors\n",
    "        U.append(u)\n",
    "\n",
    "    return np.array(U)\n",
    "\n",
    "v1 = np.array([1, 2, 2], dtype=float)\n",
    "v2 = np.array([-1, 0, 2], dtype=float)\n",
    "v3 = np.array([0, 0, 1], dtype=float)\n",
    "\n",
    "S = np.array([v1, v2, v3])\n",
    "\n",
    "\n",
    "orthonormal_basis = modified_gram_schmidt(S)\n",
    "\n",
    "\n",
    "print(\"Orthonormal basis:\")\n",
    "print(orthonormal_basis)\n"
   ]
  },
  {
   "cell_type": "markdown",
   "metadata": {},
   "source": [
    "Perform Singular Value Decomposition (SVD) of a matrix"
   ]
  },
  {
   "cell_type": "markdown",
   "metadata": {},
   "source": [
    "To perform Singular Value Decomposition (SVD) manually using only NumPy, you can follow these steps:\n",
    "\n",
    "1. Compute \\( A^T A \\) and its eigenvalues and eigenvectors.\n",
    "2. Compute \\( A A^T \\) and its eigenvalues and eigenvectors.\n",
    "3. Form the diagonal matrix \\(\\Sigma\\) with singular values.\n",
    "4. Construct the matrices \\( U \\), \\( \\Sigma \\), and \\( V^T \\).\n",
    "\n",
    "\n"
   ]
  },
  {
   "cell_type": "code",
   "execution_count": 15,
   "metadata": {},
   "outputs": [
    {
     "name": "stdout",
     "output_type": "stream",
     "text": [
      "U matrix:\n",
      "[[0. 1. 0. 0.]\n",
      " [1. 0. 0. 0.]\n",
      " [0. 0. 0. 1.]\n",
      " [0. 0. 1. 0.]]\n",
      "\n",
      "Sigma matrix:\n",
      "[[3.         0.         0.         0.         0.        ]\n",
      " [0.         2.23606798 0.         0.         0.        ]\n",
      " [0.         0.         2.         0.         0.        ]\n",
      " [0.         0.         0.         0.         0.        ]]\n",
      "\n",
      "V^T matrix:\n",
      "[[ 0.          0.          1.          0.          0.        ]\n",
      " [-0.4472136   0.          0.          0.         -0.89442719]\n",
      " [ 0.         -1.          0.          0.          0.        ]\n",
      " [ 0.          0.          0.          1.          0.        ]\n",
      " [-0.89442719  0.          0.          0.          0.4472136 ]]\n"
     ]
    }
   ],
   "source": [
    "import numpy as np\n",
    "\n",
    "def svd_manual(A):\n",
    "    # Compute A^T A and its eigenvalues and eigenvectors\n",
    "    ATA = A.T @ A\n",
    "    eigvals_v, V = np.linalg.eigh(ATA)\n",
    "    \n",
    "    # Sort eigenvalues and eigenvectors\n",
    "    sorted_indices = np.argsort(eigvals_v)[::-1]\n",
    "    eigvals_v = eigvals_v[sorted_indices]\n",
    "    V = V[:, sorted_indices]\n",
    "   \n",
    "    # Compute singular values\n",
    "    singular_values = np.sqrt(eigvals_v)\n",
    "\n",
    "    # Form the diagonal matrix Sigma\n",
    "    Sigma = np.zeros_like(A, dtype=float)\n",
    "    min_dim = min(A.shape)\n",
    "    Sigma[:min_dim, :min_dim] = np.diag(singular_values[:min_dim])\n",
    "\n",
    "    # Compute A A^T and its eigenvalues and eigenvectors\n",
    "    AAT = A @ A.T\n",
    "    eigvals_u, U = np.linalg.eigh(AAT)\n",
    "    \n",
    "    # Sort eigenvalues and eigenvectors\n",
    "    sorted_indices_u = np.argsort(eigvals_u)[::-1]\n",
    "    eigvals_u = eigvals_u[sorted_indices_u]\n",
    "    U = U[:, sorted_indices_u]\n",
    "\n",
    "    return U, Sigma, V.T\n",
    "\n",
    "# Test the code on the given matrix M\n",
    "M = np.array([\n",
    "    [1, 0, 0, 0, 2],\n",
    "    [0, 0, 3, 0, 0],\n",
    "    [0, 0, 0, 0, 0],\n",
    "    [0, 2, 0, 0, 0]\n",
    "], dtype=float)\n",
    "\n",
    "U, Sigma, VT = svd_manual(M)\n",
    "\n",
    "# Display the results\n",
    "print(\"U matrix:\")\n",
    "print(U)\n",
    "print(\"\\nSigma matrix:\")\n",
    "print(Sigma)\n",
    "print(\"\\nV^T matrix:\")\n",
    "print(VT)\n"
   ]
  },
  {
   "cell_type": "code",
   "execution_count": 17,
   "metadata": {},
   "outputs": [
    {
     "name": "stdout",
     "output_type": "stream",
     "text": [
      "Vector:\n",
      "[0.27059805 0.27059805 0.92387953]\n",
      "\n",
      "L2 norm of the vector:\n",
      "1.0\n"
     ]
    }
   ],
   "source": [
    "import numpy as np\n",
    "\n",
    "def l2_norm(vector):\n",
    "    \"\"\"\n",
    "    Compute the L2 norm of a vector.\n",
    "    \n",
    "    Parameters:\n",
    "    vector (array-like): Input vector.\n",
    "    \n",
    "    Returns:\n",
    "    float: L2 norm of the vector.\n",
    "    \"\"\"\n",
    "    return np.sqrt(np.sum(np.square(vector)))\n",
    "\n",
    "vector = np.array([\n",
    "    np.cos(np.pi / 4) * np.sin(np.pi / 8),\n",
    "    np.sin(np.pi / 4) * np.sin(np.pi / 8),\n",
    "    np.cos(np.pi / 8)\n",
    "], dtype=float)\n",
    "\n",
    "norm = l2_norm(vector)\n",
    "\n",
    "print(\"Vector:\")\n",
    "print(vector)\n",
    "print(\"\\nL2 norm of the vector:\")\n",
    "print(norm)\n"
   ]
  },
  {
   "cell_type": "code",
   "execution_count": null,
   "metadata": {},
   "outputs": [],
   "source": []
  }
 ],
 "metadata": {
  "kernelspec": {
   "display_name": ".venv",
   "language": "python",
   "name": "python3"
  },
  "language_info": {
   "codemirror_mode": {
    "name": "ipython",
    "version": 3
   },
   "file_extension": ".py",
   "mimetype": "text/x-python",
   "name": "python",
   "nbconvert_exporter": "python",
   "pygments_lexer": "ipython3",
   "version": "3.11.5"
  }
 },
 "nbformat": 4,
 "nbformat_minor": 2
}
